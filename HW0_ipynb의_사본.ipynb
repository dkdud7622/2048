{
  "cells": [
    {
      "cell_type": "markdown",
      "metadata": {
        "id": "view-in-github",
        "colab_type": "text"
      },
      "source": [
        "<a href=\"https://colab.research.google.com/github/dkdud7622/2048/blob/master/HW0_ipynb%EC%9D%98_%EC%82%AC%EB%B3%B8.ipynb\" target=\"_parent\"><img src=\"https://colab.research.google.com/assets/colab-badge.svg\" alt=\"Open In Colab\"/></a>"
      ]
    },
    {
      "cell_type": "markdown",
      "metadata": {
        "id": "TGAAwD5hTLdU"
      },
      "source": [
        "# 2023-1 기계학습 HW0"
      ]
    },
    {
      "cell_type": "markdown",
      "metadata": {
        "id": "QIrdDwfvot6_"
      },
      "source": [
        "###  수강생 여러분 반갑습니다!  첫번째 과제에서는 Numpy, Pandas, Matplotlib과 머신러닝 도구인 sklean에 익숙해지는 것을 목표로 합니다. 과제를 풀기에 앞서 제공된 예제를 한 번씩 실행시켜 보시고 참고하여 과제를 수행하시면 됩니다. "
      ]
    },
    {
      "cell_type": "code",
      "source": [
        "from google.colab import drive\n",
        "drive.mount('/content/drive')"
      ],
      "metadata": {
        "id": "rWh36eqyDFgo",
        "colab": {
          "base_uri": "https://localhost:8080/"
        },
        "outputId": "a8a3e356-91ed-4460-edef-62d2baeaf4bd"
      },
      "execution_count": 3,
      "outputs": [
        {
          "output_type": "stream",
          "name": "stdout",
          "text": [
            "Drive already mounted at /content/drive; to attempt to forcibly remount, call drive.mount(\"/content/drive\", force_remount=True).\n"
          ]
        }
      ]
    },
    {
      "cell_type": "code",
      "source": [
        "cd 데이터있는디렉토리 path"
      ],
      "metadata": {
        "id": "xFIEhG3tDYCY",
        "colab": {
          "base_uri": "https://localhost:8080/"
        },
        "outputId": "570cd8f2-fa10-4bd5-a661-6a329b2368c2"
      },
      "execution_count": 4,
      "outputs": [
        {
          "output_type": "stream",
          "name": "stdout",
          "text": [
            "[Errno 2] No such file or directory: '데이터있는디렉토리 path'\n",
            "/content\n"
          ]
        }
      ]
    },
    {
      "cell_type": "markdown",
      "metadata": {
        "id": "D084GOv6ot7B"
      },
      "source": [
        "## (1) 자료의 입/출력과 Pandas 기초"
      ]
    },
    {
      "cell_type": "markdown",
      "metadata": {
        "id": "DIAoP2sDot7D"
      },
      "source": [
        "1) 먼저 우리가 사용할 pandas, numpy, matplotlib 라이브러리를 import 해 줍니다. "
      ]
    },
    {
      "cell_type": "code",
      "execution_count": 5,
      "metadata": {
        "id": "eZNSL9a_ot7E"
      },
      "outputs": [],
      "source": [
        "import pandas as pd\n",
        "import numpy as np\n",
        "import matplotlib.pyplot as plt\n",
        "from sklearn.datasets import load_iris"
      ]
    },
    {
      "cell_type": "markdown",
      "metadata": {
        "id": "MxcEfApZot7F"
      },
      "source": [
        "2) **```Pandas```**를 이용하면 행과 열로 구성되어 있는 데이터를 손쉽게 읽어들일 수 있어 매우 강력하고 편리합니다.  \n",
        "<br>\n",
        "**```csv파일```**은 comma-separted values(csv)로 구성된 데이터 파일이며 쉼표를 기준으로 데이터를 분리한 파일입니다. 데이터 분석 작업에서 가장 많이 사용하는 파일 형식이며, **```pandas```**를 사용하여 다른 형식(TXT, EXCEL 등)도 처리 가능합니다.  \n",
        "<br>\n",
        " **```read_csv 함수```**의 Argument에서 'sep'를 이용하여 구분자(separator)를 지정해 줄 수도 있고, 'index_col'을 이용하여 index의 행번호를 지정해 줄수도 있습니다. "
      ]
    },
    {
      "cell_type": "code",
      "source": [
        "data = pd.read_csv('iris.csv', sep=',') # iris 데이터 불러오기\n",
        "data"
      ],
      "metadata": {
        "id": "N4FDsqU1xxRe",
        "colab": {
          "base_uri": "https://localhost:8080/",
          "height": 345
        },
        "outputId": "d46cb592-137d-4712-f68c-f8ede618fab0"
      },
      "execution_count": 6,
      "outputs": [
        {
          "output_type": "error",
          "ename": "FileNotFoundError",
          "evalue": "ignored",
          "traceback": [
            "\u001b[0;31m---------------------------------------------------------------------------\u001b[0m",
            "\u001b[0;31mFileNotFoundError\u001b[0m                         Traceback (most recent call last)",
            "\u001b[0;32m<ipython-input-6-d17c1950fb78>\u001b[0m in \u001b[0;36m<module>\u001b[0;34m\u001b[0m\n\u001b[0;32m----> 1\u001b[0;31m \u001b[0mdata\u001b[0m \u001b[0;34m=\u001b[0m \u001b[0mpd\u001b[0m\u001b[0;34m.\u001b[0m\u001b[0mread_csv\u001b[0m\u001b[0;34m(\u001b[0m\u001b[0;34m'iris.csv'\u001b[0m\u001b[0;34m,\u001b[0m \u001b[0msep\u001b[0m\u001b[0;34m=\u001b[0m\u001b[0;34m','\u001b[0m\u001b[0;34m)\u001b[0m \u001b[0;31m# iris 데이터 불러오기\u001b[0m\u001b[0;34m\u001b[0m\u001b[0;34m\u001b[0m\u001b[0m\n\u001b[0m\u001b[1;32m      2\u001b[0m \u001b[0mdata\u001b[0m\u001b[0;34m\u001b[0m\u001b[0;34m\u001b[0m\u001b[0m\n",
            "\u001b[0;32m/usr/local/lib/python3.9/dist-packages/pandas/util/_decorators.py\u001b[0m in \u001b[0;36mwrapper\u001b[0;34m(*args, **kwargs)\u001b[0m\n\u001b[1;32m    309\u001b[0m                     \u001b[0mstacklevel\u001b[0m\u001b[0;34m=\u001b[0m\u001b[0mstacklevel\u001b[0m\u001b[0;34m,\u001b[0m\u001b[0;34m\u001b[0m\u001b[0;34m\u001b[0m\u001b[0m\n\u001b[1;32m    310\u001b[0m                 )\n\u001b[0;32m--> 311\u001b[0;31m             \u001b[0;32mreturn\u001b[0m \u001b[0mfunc\u001b[0m\u001b[0;34m(\u001b[0m\u001b[0;34m*\u001b[0m\u001b[0margs\u001b[0m\u001b[0;34m,\u001b[0m \u001b[0;34m**\u001b[0m\u001b[0mkwargs\u001b[0m\u001b[0;34m)\u001b[0m\u001b[0;34m\u001b[0m\u001b[0;34m\u001b[0m\u001b[0m\n\u001b[0m\u001b[1;32m    312\u001b[0m \u001b[0;34m\u001b[0m\u001b[0m\n\u001b[1;32m    313\u001b[0m         \u001b[0;32mreturn\u001b[0m \u001b[0mwrapper\u001b[0m\u001b[0;34m\u001b[0m\u001b[0;34m\u001b[0m\u001b[0m\n",
            "\u001b[0;32m/usr/local/lib/python3.9/dist-packages/pandas/io/parsers/readers.py\u001b[0m in \u001b[0;36mread_csv\u001b[0;34m(filepath_or_buffer, sep, delimiter, header, names, index_col, usecols, squeeze, prefix, mangle_dupe_cols, dtype, engine, converters, true_values, false_values, skipinitialspace, skiprows, skipfooter, nrows, na_values, keep_default_na, na_filter, verbose, skip_blank_lines, parse_dates, infer_datetime_format, keep_date_col, date_parser, dayfirst, cache_dates, iterator, chunksize, compression, thousands, decimal, lineterminator, quotechar, quoting, doublequote, escapechar, comment, encoding, encoding_errors, dialect, error_bad_lines, warn_bad_lines, on_bad_lines, delim_whitespace, low_memory, memory_map, float_precision, storage_options)\u001b[0m\n\u001b[1;32m    584\u001b[0m     \u001b[0mkwds\u001b[0m\u001b[0;34m.\u001b[0m\u001b[0mupdate\u001b[0m\u001b[0;34m(\u001b[0m\u001b[0mkwds_defaults\u001b[0m\u001b[0;34m)\u001b[0m\u001b[0;34m\u001b[0m\u001b[0;34m\u001b[0m\u001b[0m\n\u001b[1;32m    585\u001b[0m \u001b[0;34m\u001b[0m\u001b[0m\n\u001b[0;32m--> 586\u001b[0;31m     \u001b[0;32mreturn\u001b[0m \u001b[0m_read\u001b[0m\u001b[0;34m(\u001b[0m\u001b[0mfilepath_or_buffer\u001b[0m\u001b[0;34m,\u001b[0m \u001b[0mkwds\u001b[0m\u001b[0;34m)\u001b[0m\u001b[0;34m\u001b[0m\u001b[0;34m\u001b[0m\u001b[0m\n\u001b[0m\u001b[1;32m    587\u001b[0m \u001b[0;34m\u001b[0m\u001b[0m\n\u001b[1;32m    588\u001b[0m \u001b[0;34m\u001b[0m\u001b[0m\n",
            "\u001b[0;32m/usr/local/lib/python3.9/dist-packages/pandas/io/parsers/readers.py\u001b[0m in \u001b[0;36m_read\u001b[0;34m(filepath_or_buffer, kwds)\u001b[0m\n\u001b[1;32m    480\u001b[0m \u001b[0;34m\u001b[0m\u001b[0m\n\u001b[1;32m    481\u001b[0m     \u001b[0;31m# Create the parser.\u001b[0m\u001b[0;34m\u001b[0m\u001b[0;34m\u001b[0m\u001b[0m\n\u001b[0;32m--> 482\u001b[0;31m     \u001b[0mparser\u001b[0m \u001b[0;34m=\u001b[0m \u001b[0mTextFileReader\u001b[0m\u001b[0;34m(\u001b[0m\u001b[0mfilepath_or_buffer\u001b[0m\u001b[0;34m,\u001b[0m \u001b[0;34m**\u001b[0m\u001b[0mkwds\u001b[0m\u001b[0;34m)\u001b[0m\u001b[0;34m\u001b[0m\u001b[0;34m\u001b[0m\u001b[0m\n\u001b[0m\u001b[1;32m    483\u001b[0m \u001b[0;34m\u001b[0m\u001b[0m\n\u001b[1;32m    484\u001b[0m     \u001b[0;32mif\u001b[0m \u001b[0mchunksize\u001b[0m \u001b[0;32mor\u001b[0m \u001b[0miterator\u001b[0m\u001b[0;34m:\u001b[0m\u001b[0;34m\u001b[0m\u001b[0;34m\u001b[0m\u001b[0m\n",
            "\u001b[0;32m/usr/local/lib/python3.9/dist-packages/pandas/io/parsers/readers.py\u001b[0m in \u001b[0;36m__init__\u001b[0;34m(self, f, engine, **kwds)\u001b[0m\n\u001b[1;32m    809\u001b[0m             \u001b[0mself\u001b[0m\u001b[0;34m.\u001b[0m\u001b[0moptions\u001b[0m\u001b[0;34m[\u001b[0m\u001b[0;34m\"has_index_names\"\u001b[0m\u001b[0;34m]\u001b[0m \u001b[0;34m=\u001b[0m \u001b[0mkwds\u001b[0m\u001b[0;34m[\u001b[0m\u001b[0;34m\"has_index_names\"\u001b[0m\u001b[0;34m]\u001b[0m\u001b[0;34m\u001b[0m\u001b[0;34m\u001b[0m\u001b[0m\n\u001b[1;32m    810\u001b[0m \u001b[0;34m\u001b[0m\u001b[0m\n\u001b[0;32m--> 811\u001b[0;31m         \u001b[0mself\u001b[0m\u001b[0;34m.\u001b[0m\u001b[0m_engine\u001b[0m \u001b[0;34m=\u001b[0m \u001b[0mself\u001b[0m\u001b[0;34m.\u001b[0m\u001b[0m_make_engine\u001b[0m\u001b[0;34m(\u001b[0m\u001b[0mself\u001b[0m\u001b[0;34m.\u001b[0m\u001b[0mengine\u001b[0m\u001b[0;34m)\u001b[0m\u001b[0;34m\u001b[0m\u001b[0;34m\u001b[0m\u001b[0m\n\u001b[0m\u001b[1;32m    812\u001b[0m \u001b[0;34m\u001b[0m\u001b[0m\n\u001b[1;32m    813\u001b[0m     \u001b[0;32mdef\u001b[0m \u001b[0mclose\u001b[0m\u001b[0;34m(\u001b[0m\u001b[0mself\u001b[0m\u001b[0;34m)\u001b[0m\u001b[0;34m:\u001b[0m\u001b[0;34m\u001b[0m\u001b[0;34m\u001b[0m\u001b[0m\n",
            "\u001b[0;32m/usr/local/lib/python3.9/dist-packages/pandas/io/parsers/readers.py\u001b[0m in \u001b[0;36m_make_engine\u001b[0;34m(self, engine)\u001b[0m\n\u001b[1;32m   1038\u001b[0m             )\n\u001b[1;32m   1039\u001b[0m         \u001b[0;31m# error: Too many arguments for \"ParserBase\"\u001b[0m\u001b[0;34m\u001b[0m\u001b[0;34m\u001b[0m\u001b[0m\n\u001b[0;32m-> 1040\u001b[0;31m         \u001b[0;32mreturn\u001b[0m \u001b[0mmapping\u001b[0m\u001b[0;34m[\u001b[0m\u001b[0mengine\u001b[0m\u001b[0;34m]\u001b[0m\u001b[0;34m(\u001b[0m\u001b[0mself\u001b[0m\u001b[0;34m.\u001b[0m\u001b[0mf\u001b[0m\u001b[0;34m,\u001b[0m \u001b[0;34m**\u001b[0m\u001b[0mself\u001b[0m\u001b[0;34m.\u001b[0m\u001b[0moptions\u001b[0m\u001b[0;34m)\u001b[0m  \u001b[0;31m# type: ignore[call-arg]\u001b[0m\u001b[0;34m\u001b[0m\u001b[0;34m\u001b[0m\u001b[0m\n\u001b[0m\u001b[1;32m   1041\u001b[0m \u001b[0;34m\u001b[0m\u001b[0m\n\u001b[1;32m   1042\u001b[0m     \u001b[0;32mdef\u001b[0m \u001b[0m_failover_to_python\u001b[0m\u001b[0;34m(\u001b[0m\u001b[0mself\u001b[0m\u001b[0;34m)\u001b[0m\u001b[0;34m:\u001b[0m\u001b[0;34m\u001b[0m\u001b[0;34m\u001b[0m\u001b[0m\n",
            "\u001b[0;32m/usr/local/lib/python3.9/dist-packages/pandas/io/parsers/c_parser_wrapper.py\u001b[0m in \u001b[0;36m__init__\u001b[0;34m(self, src, **kwds)\u001b[0m\n\u001b[1;32m     49\u001b[0m \u001b[0;34m\u001b[0m\u001b[0m\n\u001b[1;32m     50\u001b[0m         \u001b[0;31m# open handles\u001b[0m\u001b[0;34m\u001b[0m\u001b[0;34m\u001b[0m\u001b[0m\n\u001b[0;32m---> 51\u001b[0;31m         \u001b[0mself\u001b[0m\u001b[0;34m.\u001b[0m\u001b[0m_open_handles\u001b[0m\u001b[0;34m(\u001b[0m\u001b[0msrc\u001b[0m\u001b[0;34m,\u001b[0m \u001b[0mkwds\u001b[0m\u001b[0;34m)\u001b[0m\u001b[0;34m\u001b[0m\u001b[0;34m\u001b[0m\u001b[0m\n\u001b[0m\u001b[1;32m     52\u001b[0m         \u001b[0;32massert\u001b[0m \u001b[0mself\u001b[0m\u001b[0;34m.\u001b[0m\u001b[0mhandles\u001b[0m \u001b[0;32mis\u001b[0m \u001b[0;32mnot\u001b[0m \u001b[0;32mNone\u001b[0m\u001b[0;34m\u001b[0m\u001b[0;34m\u001b[0m\u001b[0m\n\u001b[1;32m     53\u001b[0m \u001b[0;34m\u001b[0m\u001b[0m\n",
            "\u001b[0;32m/usr/local/lib/python3.9/dist-packages/pandas/io/parsers/base_parser.py\u001b[0m in \u001b[0;36m_open_handles\u001b[0;34m(self, src, kwds)\u001b[0m\n\u001b[1;32m    220\u001b[0m         \u001b[0mLet\u001b[0m \u001b[0mthe\u001b[0m \u001b[0mreaders\u001b[0m \u001b[0mopen\u001b[0m \u001b[0mIOHandles\u001b[0m \u001b[0mafter\u001b[0m \u001b[0mthey\u001b[0m \u001b[0mare\u001b[0m \u001b[0mdone\u001b[0m \u001b[0;32mwith\u001b[0m \u001b[0mtheir\u001b[0m \u001b[0mpotential\u001b[0m \u001b[0mraises\u001b[0m\u001b[0;34m.\u001b[0m\u001b[0;34m\u001b[0m\u001b[0;34m\u001b[0m\u001b[0m\n\u001b[1;32m    221\u001b[0m         \"\"\"\n\u001b[0;32m--> 222\u001b[0;31m         self.handles = get_handle(\n\u001b[0m\u001b[1;32m    223\u001b[0m             \u001b[0msrc\u001b[0m\u001b[0;34m,\u001b[0m\u001b[0;34m\u001b[0m\u001b[0;34m\u001b[0m\u001b[0m\n\u001b[1;32m    224\u001b[0m             \u001b[0;34m\"r\"\u001b[0m\u001b[0;34m,\u001b[0m\u001b[0;34m\u001b[0m\u001b[0;34m\u001b[0m\u001b[0m\n",
            "\u001b[0;32m/usr/local/lib/python3.9/dist-packages/pandas/io/common.py\u001b[0m in \u001b[0;36mget_handle\u001b[0;34m(path_or_buf, mode, encoding, compression, memory_map, is_text, errors, storage_options)\u001b[0m\n\u001b[1;32m    700\u001b[0m         \u001b[0;32mif\u001b[0m \u001b[0mioargs\u001b[0m\u001b[0;34m.\u001b[0m\u001b[0mencoding\u001b[0m \u001b[0;32mand\u001b[0m \u001b[0;34m\"b\"\u001b[0m \u001b[0;32mnot\u001b[0m \u001b[0;32min\u001b[0m \u001b[0mioargs\u001b[0m\u001b[0;34m.\u001b[0m\u001b[0mmode\u001b[0m\u001b[0;34m:\u001b[0m\u001b[0;34m\u001b[0m\u001b[0;34m\u001b[0m\u001b[0m\n\u001b[1;32m    701\u001b[0m             \u001b[0;31m# Encoding\u001b[0m\u001b[0;34m\u001b[0m\u001b[0;34m\u001b[0m\u001b[0m\n\u001b[0;32m--> 702\u001b[0;31m             handle = open(\n\u001b[0m\u001b[1;32m    703\u001b[0m                 \u001b[0mhandle\u001b[0m\u001b[0;34m,\u001b[0m\u001b[0;34m\u001b[0m\u001b[0;34m\u001b[0m\u001b[0m\n\u001b[1;32m    704\u001b[0m                 \u001b[0mioargs\u001b[0m\u001b[0;34m.\u001b[0m\u001b[0mmode\u001b[0m\u001b[0;34m,\u001b[0m\u001b[0;34m\u001b[0m\u001b[0;34m\u001b[0m\u001b[0m\n",
            "\u001b[0;31mFileNotFoundError\u001b[0m: [Errno 2] No such file or directory: 'iris.csv'"
          ]
        }
      ]
    },
    {
      "cell_type": "markdown",
      "metadata": {
        "id": "k2z_1pmKot7G"
      },
      "source": [
        "3) 우리가 데이터 파일을 불러와서 만든 **```data```**라는 dataframe object에 대하여 \n",
        "주석을 해제하여 shape, dtype, axes, T, index, columns 등의 함수를 사용해 보도록 합니다. \n",
        "<br>\n",
        "**```shape```**은 행과 열의 개수를 ```tuple``` 변환하며, **```dtype```**은 열을 기준으로 데이터 형태를 반환합니다. \n",
        "<br>\n",
        "**```axes```**는 행과 열의 이름을 list로 반환합니다. T는 전치된 데이터를 얻을 수 있습니다.\n",
        "<br> \n",
        "**```head()```** 함수를 이용하여 해당 데이터의 맨 위 5줄을 볼 수 있습니다."
      ]
    },
    {
      "cell_type": "code",
      "execution_count": null,
      "metadata": {
        "id": "smtOz7oHot7G"
      },
      "outputs": [],
      "source": [
        "#data.shape\n",
        "#data.dtype\n",
        "#data.T\n",
        "#data.index\n",
        "#data.columns\n",
        "#data.head()"
      ]
    },
    {
      "cell_type": "markdown",
      "metadata": {
        "id": "xBBPUeYYot7H"
      },
      "source": [
        "   3-1) 모든 변수를 미리 보고 싶다면, 다음과 같이 반복문을 사용할 수 있습니다. "
      ]
    },
    {
      "cell_type": "code",
      "execution_count": null,
      "metadata": {
        "id": "7s84OlJCot7H"
      },
      "outputs": [],
      "source": [
        "# for col in data.columns:\n",
        "#    print('{}\\n'.format(data[col].head()))"
      ]
    },
    {
      "cell_type": "markdown",
      "metadata": {
        "id": "GtfKxbDhot7I"
      },
      "source": [
        "4) pandas에 내장된 함수들을 이용하여 자료의 기본적인 통계량을 구할 수 있습니다. "
      ]
    },
    {
      "cell_type": "code",
      "execution_count": null,
      "metadata": {
        "id": "pqswjTruot7I"
      },
      "outputs": [],
      "source": [
        "#data.mean()\n",
        "#data.std()\n",
        "data.describe()"
      ]
    },
    {
      "cell_type": "markdown",
      "metadata": {
        "id": "OdHldrKJot7J"
      },
      "source": [
        "5) pandas는  numpy array등과의 호환성이 좋습니다. 다양한 자료형을 이용하여 데이터 프레임을 만들 수 있습니다. "
      ]
    },
    {
      "cell_type": "code",
      "execution_count": null,
      "metadata": {
        "id": "Fyd5KfaXot7J"
      },
      "outputs": [],
      "source": [
        "df = pd.DataFrame({'Number' : 1.,\n",
        "                    'Timestamp' : pd.Timestamp('20230108'),\n",
        "                    'C' : pd.Series(1,index=list(range(4)),dtype='float32'),\n",
        "                    'D' : np.array([3] * 4,dtype='int32'),\n",
        "                    'Label' : pd.Categorical([\"test\",\"train\",\"test\",\"train\"]),\n",
        "                    'Bar' : 'foo' })\n",
        "df"
      ]
    },
    {
      "cell_type": "markdown",
      "metadata": {
        "id": "hoJvcG_fot7K"
      },
      "source": [
        "5-1) 데이터 프레임에서 데이터 선택과 인덱싱은 다음과 같이 합니다. "
      ]
    },
    {
      "cell_type": "code",
      "execution_count": null,
      "metadata": {
        "id": "xzQWDrMpot7K"
      },
      "outputs": [],
      "source": [
        "#index 1선택 \n",
        "df.loc[1]"
      ]
    },
    {
      "cell_type": "code",
      "source": [
        "#column 선택\n",
        "df['Label']"
      ],
      "metadata": {
        "id": "P4WFw9GhwukX"
      },
      "execution_count": null,
      "outputs": []
    },
    {
      "cell_type": "code",
      "source": [
        "#위치로 선택\n",
        "df.iloc[3]\n",
        "df.iloc[3:5,0:2]"
      ],
      "metadata": {
        "id": "ZjMVW-szwwKb"
      },
      "execution_count": null,
      "outputs": []
    },
    {
      "cell_type": "code",
      "source": [
        "df[df.Label=='test'] # Label열에서 값이 test인 것만 골라오기"
      ],
      "metadata": {
        "id": "sgemlAwEwxQP"
      },
      "execution_count": null,
      "outputs": []
    },
    {
      "cell_type": "markdown",
      "metadata": {
        "id": "VA121Pwzot7L"
      },
      "source": [
        "6) 데이터 프레임 객체를 csv 파일 형식으로 쓸 때는 **```to_csv```**함수를 이용합니다.  여기에서도 다양한 옵션을 지정해 줄 수가 있습니다.\n",
        "<br>\n",
        "한글로 된 자료를 저장할 경우 가끔씩 깨지는 경우가 있는데, 이럴 때에는 encoding='euc-kr'을 주어 저장합니다. to_excel을 이용해서 excel파일로 저장할 수도 있습니다"
      ]
    },
    {
      "cell_type": "code",
      "execution_count": null,
      "metadata": {
        "id": "rKP1POQVot7L"
      },
      "outputs": [],
      "source": [
        "data.to_csv('data2.csv')\n",
        "data.to_excel('data3.xlsx', sheet_name='Sheet1')\n",
        "# 저장 후 파일을 확인해보세요\n",
        "# 코랩에서는 왼쪽에 있는 세로 바에서 제일 마지막 아이콘(폴더 모양)을 클릭하면 파일들을 볼 수 있습니다"
      ]
    },
    {
      "cell_type": "markdown",
      "metadata": {
        "id": "u_T-dghJot7L"
      },
      "source": [
        "## (2) Numpy 기초"
      ]
    },
    {
      "cell_type": "markdown",
      "metadata": {
        "id": "i4Q58BmMot7L"
      },
      "source": [
        "Numpy를 이용하여 수치계산에 특화된 프로그래밍을 할 수가 있습니다. \n",
        "<br>\n",
        "Numpy는 Array라는 단위 객체로 수치 자료를 처리합니다. "
      ]
    },
    {
      "cell_type": "markdown",
      "metadata": {
        "id": "RJYuVF-sot7M"
      },
      "source": [
        "1) list 자료를  Numpy Array 자료형으로 바꿀 수 있습니다. shape과 dtype 함수를 써서 이들의 속성을 알 수 있습니다\n"
      ]
    },
    {
      "cell_type": "code",
      "execution_count": null,
      "metadata": {
        "id": "BnJEUznTot7M"
      },
      "outputs": [],
      "source": [
        "numbers = [1,2,3,4,5]\n",
        "# 자료형 지정 : arr1 = np.array([1, 2, 3], dtype=np.float64)\n",
        "arr = np.array(numbers)\n",
        "arr"
      ]
    },
    {
      "cell_type": "code",
      "execution_count": null,
      "metadata": {
        "id": "SfRjo2POot7M"
      },
      "outputs": [],
      "source": [
        "print(arr.shape)\n",
        "print(arr.dtype)\n",
        "#arr.astype(np.float64)  #형변환"
      ]
    },
    {
      "cell_type": "markdown",
      "metadata": {
        "id": "H2SwgtWoot7N"
      },
      "source": [
        "1-1) 중첩된 리스트도 Array로 만들 수 있습니다"
      ]
    },
    {
      "cell_type": "code",
      "execution_count": null,
      "metadata": {
        "id": "ctXx29sNot7N"
      },
      "outputs": [],
      "source": [
        "arr2 = [[1, 2, 3, 4], [5, 6, 7, 8]]\n",
        "np.array(arr2)"
      ]
    },
    {
      "cell_type": "markdown",
      "metadata": {
        "id": "6DLJTjhAot7N"
      },
      "source": [
        "2) Numpy의 여러 내장함수를 이용하여 특수한 형태의 array를 만들 수 있습니다"
      ]
    },
    {
      "cell_type": "code",
      "execution_count": null,
      "metadata": {
        "id": "q6ws00iyot7N"
      },
      "outputs": [],
      "source": [
        "print(np.ones(10))\n",
        "print(np.zeros((3,5)))\n",
        "print(np.arange(2, 7))  #arange 함수에서 마지막 숫자는 포함하지 않습니다."
      ]
    },
    {
      "cell_type": "markdown",
      "metadata": {
        "id": "iqAVbgmEot7O"
      },
      "source": [
        "3) Numpy의 연산"
      ]
    },
    {
      "cell_type": "code",
      "execution_count": null,
      "metadata": {
        "id": "DitM8XPiot7O"
      },
      "outputs": [],
      "source": [
        "arr = np.random.randn(4,6)  #4행 6열의 Normal 랜덤 변수\n",
        "#np.sum(arr)  #모든 원소의 총합\n",
        "#arr+arr\n",
        "#arr * arr  # elementwise \n",
        "#arr-arr\n",
        "#arr[2:3]    #인덱싱"
      ]
    },
    {
      "cell_type": "markdown",
      "metadata": {
        "id": "L9BUfm3Mot7O"
      },
      "source": [
        "4) Numpy의 함수 "
      ]
    },
    {
      "cell_type": "code",
      "execution_count": null,
      "metadata": {
        "id": "n1-pSH4tot7O"
      },
      "outputs": [],
      "source": [
        "#arr = np.arange(15).reshape((3, 5))   #크기 변경 : reshape\n",
        "#arr.T                              # 전치 \n",
        "#arr.dot(arr.T)                    # dot 곱"
      ]
    },
    {
      "cell_type": "code",
      "execution_count": null,
      "metadata": {
        "id": "2vz4zBnTot7P"
      },
      "outputs": [],
      "source": [
        "#np.square(arr)  #제곱\n",
        "#np.sign(arr)   # 부호\n",
        "#np.ceil(arr)  # 올림(소수1째자리)\n",
        "#np.sum(arr, axis=1) # 열의 합을 계산\n",
        "#np.sum(arr, axis=0)\n",
        "#np.std(arr) : 전체 성분의 표준편차 계산\n",
        "#np.sort(arr) : 전체 성분 오름차순 정렬\n",
        "#np.sort(arr)[::-1] #전체 성분 내림차순 정렬"
      ]
    },
    {
      "cell_type": "markdown",
      "metadata": {
        "id": "vs6q_jL8ot7P"
      },
      "source": [
        "## (3) 데이터 시각화 기초"
      ]
    },
    {
      "cell_type": "markdown",
      "metadata": {
        "id": "CCRTgWsVot7P"
      },
      "source": [
        "Matplotlib는, 데이터를 시각화 하기 위해 가장 많이 이용되는 패키지 중 하나입니다. 자료를 손쉽게 시각화 할 수 있습니다"
      ]
    },
    {
      "cell_type": "code",
      "execution_count": null,
      "metadata": {
        "id": "vpQYvMKvTLde"
      },
      "outputs": [],
      "source": [
        "plt.plot([9, 10, 11, 12], [1, 4, 2, 6])\n",
        "plt.title('example')  # 제목지정\n",
        "plt.xlabel('time')\n",
        "plt.ylabel('price')\n",
        "plt.legend(['Stock1']) # 범례 삽입"
      ]
    },
    {
      "cell_type": "markdown",
      "metadata": {
        "id": "5_2eZ8Vpot7Q"
      },
      "source": [
        "# (4) Sklearn 기초"
      ]
    },
    {
      "cell_type": "markdown",
      "metadata": {
        "id": "bA0P1i_Zot7Q"
      },
      "source": [
        "Sklearn은 머신러닝에서 데이터의 전처리를 포함한 여러 기초 작업에 유용하게 활용 가능한 라이브러리 입니다. "
      ]
    },
    {
      "cell_type": "code",
      "execution_count": null,
      "metadata": {
        "id": "8hbCf0jcot7Q"
      },
      "outputs": [],
      "source": [
        "from sklearn.model_selection import train_test_split # 데이터를 학습, 검증 데이터로 나누어주는 함수\n",
        "from sklearn.linear_model import LinearRegression, LogisticRegression  #선형, 로지스틱 회귀분석 #### KNN으로 대체\n",
        "from sklearn import svm  # Support Vector Machine\n",
        "from sklearn import tree\n",
        "from sklearn.ensemble import RandomForestClassifier #랜덤 포레스트 분류기\n",
        "from sklearn.neighbors import KNeighborsClassifier # KNN 분류기\n",
        "\n",
        "\n",
        "from sklearn.datasets import load_iris # iris 데이터"
      ]
    },
    {
      "cell_type": "markdown",
      "metadata": {
        "id": "agXcSmPPot7S"
      },
      "source": [
        "1) Sklearn에 있는 예제 데이터(Iris)를 불러 와서, Pandas로 Data Frame을 만들어 봅니다"
      ]
    },
    {
      "cell_type": "code",
      "source": [
        "iris = load_iris() # iris data 불러오기\n",
        "iris.feature_names"
      ],
      "metadata": {
        "id": "79EqnwsUzA8M"
      },
      "execution_count": null,
      "outputs": []
    },
    {
      "cell_type": "code",
      "execution_count": null,
      "metadata": {
        "id": "2NzU8Yaeot7S"
      },
      "outputs": [],
      "source": [
        "data = pd.DataFrame(iris.data,  columns=iris.feature_names) # iris.feature_names를 dataframe의 열 이름으로 사용\n",
        "data"
      ]
    },
    {
      "cell_type": "code",
      "source": [
        "target = pd.DataFrame(iris.target, columns = ['target']) # iris 데이터의 클래스 값들 (target value)\n",
        "target"
      ],
      "metadata": {
        "id": "zs_-qPUazHD2"
      },
      "execution_count": null,
      "outputs": []
    },
    {
      "cell_type": "code",
      "source": [
        "rawData = pd.concat([data,target], axis=1) # pd.concat: list 안에 있는 데이터프레임들을 열을 기준으로 붙여줍니다.\n",
        "# axis=0: 행 기준, axis=1: 열 기준\n",
        "rawData # 오른쪽 열에 target이 추가된 것을 확인할 수 있음"
      ],
      "metadata": {
        "id": "fo5Ym9MtzMvp"
      },
      "execution_count": null,
      "outputs": []
    },
    {
      "cell_type": "markdown",
      "metadata": {
        "id": "qDXRY6Hiot7S"
      },
      "source": [
        "2) 1)에서 만든 데이터프레임을 training data와 test data로 분할합니다. <br>\n",
        "training data 와 test data의 비는 3:1로 설정합니다. <br>\n",
        "Training data로 분류기를 훈련시키고, test data로 모델(=분류기)을 test합니다."
      ]
    },
    {
      "cell_type": "code",
      "execution_count": null,
      "metadata": {
        "id": "NEM1RFB5ot7T"
      },
      "outputs": [],
      "source": [
        "x_train, x_test, y_train, y_test = train_test_split(data,target,test_size=0.25, random_state=0)"
      ]
    },
    {
      "cell_type": "code",
      "source": [
        "y_test"
      ],
      "metadata": {
        "id": "wTm8i0f0OXIi"
      },
      "execution_count": null,
      "outputs": []
    },
    {
      "cell_type": "code",
      "source": [
        "x_test"
      ],
      "metadata": {
        "id": "Kc9k7LQIOTmb"
      },
      "execution_count": null,
      "outputs": []
    },
    {
      "cell_type": "code",
      "execution_count": null,
      "metadata": {
        "id": "-RvKmv9rot7T"
      },
      "outputs": [],
      "source": [
        "#x_train"
      ]
    },
    {
      "cell_type": "markdown",
      "metadata": {
        "id": "KOPe5APfot7T"
      },
      "source": [
        "3) Scikit-learn에서 제공하는 기초 머신러닝 모형을 사용하기 위해 사용가능한 API는 다음과 같습니다. \n",
        "분류기를 하나씩 사용해 보면서 실습해 봅니다"
      ]
    },
    {
      "cell_type": "markdown",
      "metadata": {
        "id": "Xnl6UcHMot7T"
      },
      "source": [
        "* fit(x_train, y_train)     ## 모델을 훈련(학습)합니다.\n",
        "* predict(x_test)           ## 학습된 모델이 x_test의 label을 예측합니다.\n",
        "* score(x_test, y_test)     ## 모델의 평균 accuracy(정확도)"
      ]
    },
    {
      "cell_type": "code",
      "execution_count": null,
      "metadata": {
        "id": "ZcP4jd6dot7T"
      },
      "outputs": [],
      "source": [
        "clf = KNeighborsClassifier(n_neighbors = 3)\n",
        "\n",
        "#clf = tree.DecisionTreeClassifier()\n",
        "#clf = svm.SVC(kernel='linear')\n",
        "#clf = RandomForestClassifier(max_depth=2, random_state=0)\n",
        "#clf = LogisticRegression(solver='lbfgs').fit(x_train,y_train)"
      ]
    },
    {
      "cell_type": "code",
      "execution_count": null,
      "metadata": {
        "id": "VkKlTuWjot7U"
      },
      "outputs": [],
      "source": [
        "clf.fit(x_train,y_train)  # 분류기 훈련\n",
        "clf.coef_                 # 추정 된 모수 확인\n",
        "clf.intercept_            # 추정 된 상수항 확인"
      ]
    },
    {
      "cell_type": "code",
      "source": [
        "k_list = range(1,10)\n",
        "accuracies = []\n",
        "for k in k_list:\n",
        "    clf = KNeighborsClassifier(n_neighbors = k)\n",
        "    clf.fit(training_data, training_labels)\n",
        "    accs.append(clf.score(validation_data, validation_labels))\n",
        "plt.plot(k_list, accuracies)\n",
        "plt.xlabel(\"k\")\n",
        "plt.ylabel(\"Accuracy\")\n",
        "plt.title(\" KNN_Classifier Accuracy\")\n",
        "plt.show()"
      ],
      "metadata": {
        "id": "PnOeMXKsOjHY"
      },
      "execution_count": null,
      "outputs": []
    }
  ],
  "metadata": {
    "colab": {
      "provenance": [],
      "include_colab_link": true
    },
    "kernelspec": {
      "display_name": "Python 3 (ipykernel)",
      "language": "python",
      "name": "python3"
    },
    "language_info": {
      "codemirror_mode": {
        "name": "ipython",
        "version": 3
      },
      "file_extension": ".py",
      "mimetype": "text/x-python",
      "name": "python",
      "nbconvert_exporter": "python",
      "pygments_lexer": "ipython3",
      "version": "3.9.13"
    }
  },
  "nbformat": 4,
  "nbformat_minor": 0
}